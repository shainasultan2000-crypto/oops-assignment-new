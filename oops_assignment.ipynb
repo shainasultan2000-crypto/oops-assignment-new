{
  "nbformat": 4,
  "nbformat_minor": 0,
  "metadata": {
    "colab": {
      "provenance": []
    },
    "kernelspec": {
      "name": "python3",
      "display_name": "Python 3"
    },
    "language_info": {
      "name": "python"
    }
  },
  "cells": [
    {
      "cell_type": "markdown",
      "source": [
        "Python OOPs Questions ASSIGNMENT\n"
      ],
      "metadata": {
        "id": "bhPp17zfklIZ"
      }
    },
    {
      "cell_type": "markdown",
      "source": [
        "#1 . What is Object-Oriented Programming (OOP)\n",
        "\n",
        "OOP is a programming paradigm based on the concept of \"objects\" that contain data (attriubutes )and methods (functions). It focusses on modeling real world entities .\n",
        "\n",
        "\n",
        "\n",
        "Key principles : Encapsulation , Abstraction , Inheritance , Polymorphism .\n"
      ],
      "metadata": {
        "id": "Kc_DpvZyj-kt"
      }
    },
    {
      "cell_type": "markdown",
      "source": [
        "#2  What is a class in OOP?\n",
        "\n",
        "A class is a blueprint or templata created for creating objects. It defines attaributes (varaiable) and methods (functions).\n"
      ],
      "metadata": {
        "id": "MFw3ArUwibhb"
      }
    },
    {
      "cell_type": "code",
      "source": [
        "class Car:\n",
        "  def __init__(self,brand,model):\n",
        "    self.brand = brand\n",
        "    self.model= model"
      ],
      "metadata": {
        "id": "LQi0mz81lO3l"
      },
      "execution_count": null,
      "outputs": []
    },
    {
      "cell_type": "markdown",
      "source": [
        "#3 . What is an object in OOP?\n",
        "\n",
        " A object is an instance of a class with actual data .\n",
        "\n",
        "\n"
      ],
      "metadata": {
        "id": "uJvriRZaoj2c"
      }
    },
    {
      "cell_type": "code",
      "source": [
        "car1= Car(\"Toyata\", \"Corolla\") #car1 is a object ."
      ],
      "metadata": {
        "id": "BzxFidHWpIPM"
      },
      "execution_count": null,
      "outputs": []
    },
    {
      "cell_type": "markdown",
      "source": [
        "4  What is the difference between abstraction and encapsulation?\n",
        "\n",
        "Abstraction- Hiding implementation details and showing only essential features(e.g ., using len() without knowing internal code)\n",
        "\n",
        "\n",
        "\n",
        "Encapsulation -  Bunding data  and methods together , restricting direst access(e.g private variables using_var).\n",
        "\n"
      ],
      "metadata": {
        "id": "qBiERz2TpkZ6"
      }
    },
    {
      "cell_type": "markdown",
      "source": [
        "5. What are dunder methods in Python?\n",
        "“Dunder” = Double Underscore. Special methods in Python that start & end with __.\n",
        "\n",
        "    \n",
        "Examples:\n",
        "\n",
        "     __init__() → constructor\n",
        "\n",
        "\n",
        "     __str__() → user-friendly string representation\n",
        "  \n",
        "\n",
        "     __len__() → length of object\n",
        "\n",
        "\n",
        "They allow operator overloading and custom behavior."
      ],
      "metadata": {
        "id": "LgZYLKFkqg6i"
      }
    },
    {
      "cell_type": "markdown",
      "source": [
        "6. Explain Inheritence in OOP?\n",
        "\n",
        " Inheritence allows a class ( child/ derived) to inherit attributes and methods from another class (parent/base) .\n",
        "\n",
        "\n"
      ],
      "metadata": {
        "id": "awBafU8Wsp_O"
      }
    },
    {
      "cell_type": "code",
      "source": [
        "class Animal:\n",
        "  def speak(self):\n",
        "    print(\"Sound\")\n",
        "class Dog(Animal):\n",
        "  def speak(self):\n",
        "    print(\"Bark\")"
      ],
      "metadata": {
        "id": "2MrBMesJuJ3V"
      },
      "execution_count": null,
      "outputs": []
    },
    {
      "cell_type": "markdown",
      "source": [
        "7. What is polymorphism in OOP?\n",
        "\n",
        "Polymorphism is same fuction name but different behaviour. FOR EXAMPLE"
      ],
      "metadata": {
        "id": "-0vDQ2WvsEI5"
      }
    },
    {
      "cell_type": "code",
      "source": [
        "class Animal:\n",
        "  def speak(self):\n",
        "     return \"some sound\"\n",
        "\n",
        "class Dog(Animal):\n",
        "  def speak(self):\n",
        "    return \"Bark\"\n",
        "\n",
        "class Cat(Animal):\n",
        "   def speak(self):\n",
        "     return \"meow\"\n",
        "\n",
        "#same METHOD name \"speak\" ,different output\n",
        "\n",
        "animals= [Dog(), Cat(), Animal()]\n",
        "for a in animals:\n",
        "  print(a.speak())"
      ],
      "metadata": {
        "colab": {
          "base_uri": "https://localhost:8080/"
        },
        "id": "-IBvoGsvwsYI",
        "outputId": "81081c95-6fc0-4b09-9e69-e21c1a6661c5"
      },
      "execution_count": 6,
      "outputs": [
        {
          "output_type": "stream",
          "name": "stdout",
          "text": [
            "Bark\n",
            "meow\n",
            "some sound\n"
          ]
        }
      ]
    },
    {
      "cell_type": "markdown",
      "source": [
        "8. How is Encapsulation achieved in Python?\n",
        "\n",
        "Definition : Encapsulation = hiding data inside a class & controlling access using methods .\n"
      ],
      "metadata": {
        "id": "COlE6cxqx0eV"
      }
    },
    {
      "cell_type": "markdown",
      "source": [
        "By using private/ protected variable(_var , __var) and getter / setter methods."
      ],
      "metadata": {
        "id": "2GLj8Xvu0-eC"
      }
    },
    {
      "cell_type": "code",
      "source": [
        "class BankAccount:\n",
        "  def __init__(self,balance) :\n",
        "    self.__balance = balance        #private attribute\n",
        "\n",
        "  def deposit(self , amount):\n",
        "      self.__balance += amount\n",
        "\n",
        "  def get_balance(self):\n",
        "       return self.__balance #controlled access\n",
        "\n",
        "\n",
        "acc = BankAccount(1000)\n",
        "acc.deposit(9800)\n",
        "print(acc.get_balance())    # error\n"
      ],
      "metadata": {
        "colab": {
          "base_uri": "https://localhost:8080/"
        },
        "id": "71kXyRBwySQt",
        "outputId": "04df65e9-4f1d-47e5-bce1-6ed762729510"
      },
      "execution_count": 20,
      "outputs": [
        {
          "output_type": "stream",
          "name": "stdout",
          "text": [
            "10800\n"
          ]
        }
      ]
    },
    {
      "cell_type": "markdown",
      "source": [
        "#9 .What is a constructor in Python?\n",
        "\n",
        "A constructor is the special method  init() that runs automatically when an object is created , used to initialize attributes.\n",
        "\n",
        "\n"
      ],
      "metadata": {
        "id": "jYNf8AQz1OKj"
      }
    },
    {
      "cell_type": "code",
      "source": [
        "class Student:\n",
        "    def __init__(self, name, roll_no):\n",
        "        self.name = name\n",
        "        self.roll_no = roll_no\n",
        "\n",
        "# Object creation cAlls constructor automatically\n",
        "s1 = Student(\"SHAINA\", 301)\n",
        "print(s1.name, s1.roll_no)\n"
      ],
      "metadata": {
        "colab": {
          "base_uri": "https://localhost:8080/"
        },
        "id": "O1TAVZTp1pGE",
        "outputId": "8cf7fa7f-f357-4ab7-b9fd-293cbd8fd002"
      },
      "execution_count": 114,
      "outputs": [
        {
          "output_type": "stream",
          "name": "stdout",
          "text": [
            "SHAINA 301\n"
          ]
        }
      ]
    },
    {
      "cell_type": "markdown",
      "source": [
        "#10 What are class and static methiods in Python?\n",
        "\n",
        "definition:\n",
        "\n",
        "Class Method(@classmethod) - works on the class itself ,recieves cls\n",
        "\n",
        "\n",
        "static method (@staticmethod) - Utility function inside class, does not use self or cls.\n",
        "\n",
        "\n"
      ],
      "metadata": {
        "id": "YGClQdvs249W"
      }
    },
    {
      "cell_type": "code",
      "source": [
        "class Student:\n",
        "  school_name = \"De nobili School\"   # class variable\n",
        "\n",
        "  def __init__(self, name):\n",
        "    self.name = name   # instance variable\n",
        "\n",
        "  @classmethod\n",
        "  def get_school_name(cls):   # class method\n",
        "    return cls.school_name\n",
        "\n",
        "  @staticmethod\n",
        "  def welcome_message():      # static method\n",
        "    return \"Welcome to our School !\"\n",
        "\n",
        "# Usage\n",
        "s1 = Student(\"Shaina\")\n",
        "\n",
        "print(Student.get_school_name())   # ✅ Class method\n",
        "print(Student.welcome_message())"
      ],
      "metadata": {
        "colab": {
          "base_uri": "https://localhost:8080/"
        },
        "id": "UGlUr_oJ3Y89",
        "outputId": "4b0bcc60-9484-44bc-b7e4-1033000a3b30"
      },
      "execution_count": 29,
      "outputs": [
        {
          "output_type": "stream",
          "name": "stdout",
          "text": [
            "De nobili School\n",
            "Welcome to our School !\n"
          ]
        }
      ]
    },
    {
      "cell_type": "markdown",
      "source": [
        "#11. What is Method Overloading in Python ?\n",
        "\n",
        "Having multiple methods with the same name but different parameters .\n",
        "\n",
        "\n",
        "Python doesnt support true overloading (like Java ), but we can mimivc it using arguments or *args ."
      ],
      "metadata": {
        "id": "Nt5cQf0M3XSE"
      }
    },
    {
      "cell_type": "code",
      "source": [
        "class Calculator:\n",
        "  def add(self, a,b=0 , c=0):\n",
        "     return a+b+c\n",
        "\n",
        "calc = Calculator()\n",
        "print(calc.add(5))\n",
        "print(calc.add(5,10,400))\n",
        "print(calc.add(5,6,20))\n"
      ],
      "metadata": {
        "colab": {
          "base_uri": "https://localhost:8080/"
        },
        "id": "kEAW0rLn-ybd",
        "outputId": "59ad1596-3665-415e-fe88-2127e03a830d"
      },
      "execution_count": 115,
      "outputs": [
        {
          "output_type": "stream",
          "name": "stdout",
          "text": [
            "5\n",
            "415\n",
            "31\n"
          ]
        }
      ]
    },
    {
      "cell_type": "markdown",
      "source": [
        "#12 what is method overloading in OOP ?\n",
        "\n",
        "When a child class provides its own version of a method that already exists in the parent class.\n"
      ],
      "metadata": {
        "id": "1y6YqOJk_iYQ"
      }
    },
    {
      "cell_type": "code",
      "source": [
        "class Animal:\n",
        "  def sound(self):\n",
        "    return \"some sound\"\n",
        "class Dog (Animal):\n",
        "  def sound (self):\n",
        "    return \" Bark \"\n",
        "\n",
        "\n",
        "print (Dog().sound())"
      ],
      "metadata": {
        "colab": {
          "base_uri": "https://localhost:8080/"
        },
        "id": "o5_a5f1g_1Az",
        "outputId": "fb81890e-f2ba-4005-df30-6ca1858ccd19"
      },
      "execution_count": 3,
      "outputs": [
        {
          "output_type": "stream",
          "name": "stdout",
          "text": [
            " Bark \n"
          ]
        }
      ]
    },
    {
      "cell_type": "markdown",
      "source": [
        "#13 What is a property decorator in Python?\n",
        "\n",
        "Used with @property to make methods act like attributes (getter/setter without explicit calls)\n",
        "Used for validation, encapsulation.\n",
        "\n",
        "\n",
        "Cleaner than calling obj.get_value().\n",
        "\n",
        " for example"
      ],
      "metadata": {
        "id": "KZXugCsEAW5W"
      }
    },
    {
      "cell_type": "code",
      "source": [
        "class Circle:\n",
        "  def __init__(self , radius):\n",
        "    self.radius = radius\n",
        "\n",
        "  @property\n",
        "  def radius(self):    #getter\n",
        "    return self._radius\n",
        "\n",
        "  c = Circle(5)\n",
        "  print(c.radius) # access like an attribute , not c.radius()"
      ],
      "metadata": {
        "colab": {
          "base_uri": "https://localhost:8080/"
        },
        "id": "S1ieJEP0Ar47",
        "outputId": "e76a736b-b901-46cb-f705-2ff0c36e3609"
      },
      "execution_count": 7,
      "outputs": [
        {
          "output_type": "stream",
          "name": "stdout",
          "text": [
            "5\n"
          ]
        }
      ]
    },
    {
      "cell_type": "markdown",
      "source": [
        "# 14 Importance of polymorphism .\n",
        "\n",
        " Polymorphism = many forms .\n",
        "\n",
        "\n",
        " -same method name, different behaviour in diff classes .\n",
        "\n",
        " -Makes code flexible and extensible .\n",
        "\n",
        " -Reduces need for if else cheks"
      ],
      "metadata": {
        "id": "E_jPFZzOCRfT"
      }
    },
    {
      "cell_type": "markdown",
      "source": [
        "#15  What is an abstract class in Python?\n",
        "\n",
        "Abstract class : Class with one or more abstract methods (declared but not implemented ).\n",
        "\n",
        "Cannot be instatiated .\n",
        "\n",
        "\n",
        " Used to define a common interface .\n",
        "\n",
        "\n",
        "Implemented using abc module in Python. for example\n",
        "\n"
      ],
      "metadata": {
        "id": "SZ2NoM_NCtN9"
      }
    },
    {
      "cell_type": "code",
      "source": [
        "from abc import ABC, abstractmethod\n",
        "\n",
        "class Vehicle (ABC):\n",
        "   @abstractmethod\n",
        "   def start(self): pass\n",
        "\n",
        "\n",
        "class Car(Vehicle):\n",
        "  def start(self): return \"Car started\"\n",
        "\n",
        "c= Car()\n",
        "print(c.start())                  # Car started"
      ],
      "metadata": {
        "colab": {
          "base_uri": "https://localhost:8080/"
        },
        "id": "bMVi8S5VDWcq",
        "outputId": "3a1f6684-129f-4fb9-9153-839374d4488c"
      },
      "execution_count": 16,
      "outputs": [
        {
          "output_type": "stream",
          "name": "stdout",
          "text": [
            "Car started\n"
          ]
        }
      ]
    },
    {
      "cell_type": "markdown",
      "source": [
        "#16 What are the advantages of OOP+\n",
        "\n",
        "- Encapsulation : hide details ,expose only required parts .\n",
        "\n",
        "\n",
        "- Abstraction : Focus on what , not how .\n",
        "\n",
        "\n",
        "-  Reusability : Inheritence allows code reuse .\n",
        "\n",
        "\n",
        "- Polymorphism : Same inheritance , multiple implementations .\n",
        "\n",
        "- Modularity - Easier to maintain and debug .\n",
        "\n",
        "\n",
        "\n",
        "- Scalibilty : Good for large projects .\n"
      ],
      "metadata": {
        "id": "l5kX6BMkFF5f"
      }
    },
    {
      "cell_type": "markdown",
      "source": [
        "#17 What is the difference between a class variable and an instance variable?\n",
        "\n",
        "- Class variable : Shared by all objects .\n",
        "\n",
        "Defined at class level .\n",
        "\n",
        "- Instance variable : Unique at each object .\n",
        "\n",
        "Defined inside init .\n",
        "\n",
        "Changing a class variable affects all objects.\n",
        "\n",
        "for example\n",
        "\n",
        "\n"
      ],
      "metadata": {
        "id": "SsiWzSFFFDON"
      }
    },
    {
      "cell_type": "code",
      "source": [
        "class Students :\n",
        "  school = \"City School\" # class variable\n",
        "  def __init__(self, name):\n",
        "    self.name = name     # instance variable\n",
        "\n",
        "s1 = Students(\"Shaina\")\n",
        "s2 = Students(\"Sultan\")\n",
        "print(s1.school, s2.school)  # City School City School\\\n",
        "print(s1.name, s2.name)      # Shaina Sultan"
      ],
      "metadata": {
        "colab": {
          "base_uri": "https://localhost:8080/"
        },
        "id": "MSrXh755F85P",
        "outputId": "b2c7e19c-5eea-40fd-c008-e0a8257ab3ac"
      },
      "execution_count": 19,
      "outputs": [
        {
          "output_type": "stream",
          "name": "stdout",
          "text": [
            "City School City School\n",
            "Shaina Sultan\n"
          ]
        }
      ]
    },
    {
      "cell_type": "markdown",
      "source": [
        "#18. What is multiple inheritance in Python?\n",
        "\n",
        "\n",
        " - A class can inherit from more than one parent.\n",
        "\n",
        " - Python resolves conflicts using MRO(Method Resolutuion Order ).\n",
        "\n",
        "\n",
        " - Useful but can make mode complex."
      ],
      "metadata": {
        "id": "H758hlFIHp1P"
      }
    },
    {
      "cell_type": "code",
      "source": [
        "class A:\n",
        "  def show(self) : return \" From A\"\n",
        "\n",
        "class B:\n",
        "  def snow(self) : return \"From B\"\n",
        "\n",
        "class C(A,B)  : pass\n",
        "\n",
        "c= C()\n",
        "print(c.show())\n",
        "print(c.snow())   #From A( because A is first in order)"
      ],
      "metadata": {
        "colab": {
          "base_uri": "https://localhost:8080/"
        },
        "id": "feWBNAywJq9x",
        "outputId": "da921d58-d4bb-49cf-f58f-a8ae83dbaa81"
      },
      "execution_count": 25,
      "outputs": [
        {
          "output_type": "stream",
          "name": "stdout",
          "text": [
            " From A\n",
            "From B\n"
          ]
        }
      ]
    },
    {
      "cell_type": "markdown",
      "source": [
        "#19 . Explain the purpose of ‘’__str__’ and ‘__repr__’ ‘ methods in Python?\n",
        "\n",
        "    __str__ : User - friendly- string , used by print() .\n",
        "\n",
        "\n",
        "\n",
        "     __repr__:  Developer- friendly ,string, used in debugging and interperter ,\n",
        "\n",
        "\n",
        "\n",
        "     repr(obj) -    calls  __repr__\n",
        "\n",
        "\n",
        "      str(obj)/ print(obj) -   calls __str__\n",
        "\n",
        "\n",
        ""
      ],
      "metadata": {
        "id": "RzNXSKaZKgVt"
      }
    },
    {
      "cell_type": "code",
      "source": [
        "class Person:\n",
        "  def __repr__(self):\n",
        "    return \"Person('Shaina', 25)\"  #developer\n",
        "\n",
        "  def __str__(self):\n",
        "    return \"Shaina, age 25\"      #user\n",
        "\n",
        "p = Person()\n",
        "print(p)  #Shaina, 25\n",
        "print(repr(p))   #Person ('Shaina', 25)\n"
      ],
      "metadata": {
        "colab": {
          "base_uri": "https://localhost:8080/"
        },
        "id": "U87IhMjKOJwr",
        "outputId": "02c965cc-f4f4-4197-a3d4-e00a41ad160a"
      },
      "execution_count": 30,
      "outputs": [
        {
          "output_type": "stream",
          "name": "stdout",
          "text": [
            "Shaina, age 25\n",
            "Person('Shaina', 25)\n"
          ]
        }
      ]
    },
    {
      "cell_type": "markdown",
      "source": [
        "#20. What is the significance of the ‘super()’ function in Python?\n",
        "\n",
        "- Used to call parent class mwthod from child class .\n",
        "\n",
        "\n",
        "- Important for multiple inheritance (follows MRO).\n",
        "\n",
        "\n",
        "\n",
        "- Avoids directly naming parent class .\n",
        "\n",
        "\n",
        "\n"
      ],
      "metadata": {
        "id": "0ZEW9sKIQr8k"
      }
    },
    {
      "cell_type": "markdown",
      "source": [
        "#21  What is the significance of the __del__ method in Python+\n",
        "\n",
        "\n",
        " del method (destructor)\n",
        "\n",
        " - Called when object is deleted or garbage - collected .\n",
        "\n",
        "\n",
        " - Used for cleanup tasks (e.g ., closing files).\n",
        "\n"
      ],
      "metadata": {
        "id": "DiHdR7QNRRav"
      }
    },
    {
      "cell_type": "code",
      "source": [
        "class Demo:\n",
        "  def __del__(self):\n",
        "    print(\"Object destroyed\")\n",
        "\n",
        "d = Demo()\n",
        "del d  # prints \"Object destroyed\""
      ],
      "metadata": {
        "colab": {
          "base_uri": "https://localhost:8080/"
        },
        "id": "WhW-j-MrOGX7",
        "outputId": "33bcda46-b0d5-433e-c12b-35c49dfa76b3"
      },
      "execution_count": 112,
      "outputs": [
        {
          "output_type": "stream",
          "name": "stdout",
          "text": [
            "Object destroyed\n"
          ]
        }
      ]
    },
    {
      "cell_type": "markdown",
      "source": [
        "#22  What is the difference between @staticmethod and @classmethod in Python?\n",
        "\n",
        "\n",
        "@staticmethod: Doesn’t take self or cls.\n",
        "\n",
        "\n",
        "- works like a normal function inside class.\n",
        "\n",
        "\n",
        "@classmethod: Takes cls as first argument.\n",
        "\n",
        "- Can modify class variables.\n",
        "Simple"
      ],
      "metadata": {
        "id": "c8QO4ldaSNpc"
      }
    },
    {
      "cell_type": "markdown",
      "source": [
        "#23 How does polymorphism work in Python with inheritance?\n",
        "\n",
        "Parent defines a method .\n",
        "\n",
        "\n",
        "\n",
        "Child overrides it.\n",
        "\n",
        "\n",
        "\n",
        "When called on child object , child's version runs.\n",
        "\n"
      ],
      "metadata": {
        "id": "mUc5dNCETgqn"
      }
    },
    {
      "cell_type": "code",
      "source": [
        "class Parent:\n",
        "  def job(self): return \"Parent job\"\n",
        "\n",
        "class Child(Parent):\n",
        "  def job(self): return \"Child job\"\n",
        "\n",
        "for obj in [Parent(), Child()]:\n",
        "  print(obj.job())"
      ],
      "metadata": {
        "colab": {
          "base_uri": "https://localhost:8080/"
        },
        "id": "1LXseQKaUIIZ",
        "outputId": "5b3dc232-b0b2-4243-dfab-c0797e966603"
      },
      "execution_count": 31,
      "outputs": [
        {
          "output_type": "stream",
          "name": "stdout",
          "text": [
            "Parent job\n",
            "Child job\n"
          ]
        }
      ]
    },
    {
      "cell_type": "markdown",
      "source": [
        "#24 What is method chaining in Python OOP?\n",
        "\n",
        "\n",
        "- Method return self .\n",
        "\n",
        "- Allow multiple calls in one line .\n",
        "\n",
        "- Improves readability for builder style patterns.\n",
        "\n",
        "\n",
        "\n"
      ],
      "metadata": {
        "id": "YXWPj79bTPql"
      }
    },
    {
      "cell_type": "markdown",
      "source": [
        "#25 What is the purpose of the __call__ method in Python?\n",
        "\n",
        "\n",
        "- Makes object behave like a function.\n",
        "\n",
        "\n",
        "\n",
        "- Useful for callable objects with state .\n",
        "\n",
        "\n",
        "\n",
        "- Syntax : obj(args) - calls obj. call(args).\n",
        "\n"
      ],
      "metadata": {
        "id": "59vGpGpHU5Zd"
      }
    },
    {
      "cell_type": "code",
      "source": [],
      "metadata": {
        "id": "6-l7aOLyVr9g"
      },
      "execution_count": null,
      "outputs": []
    },
    {
      "cell_type": "markdown",
      "source": [
        "......................................"
      ],
      "metadata": {
        "id": "Lqzp4qY6V5lX"
      }
    },
    {
      "cell_type": "markdown",
      "source": [],
      "metadata": {
        "id": "S0apZNRfV7Wj"
      }
    },
    {
      "cell_type": "markdown",
      "source": [
        "PRACTICAL QUESTIONS .\n"
      ],
      "metadata": {
        "id": "V4tU7-Q4V7vU"
      }
    },
    {
      "cell_type": "code",
      "source": [
        "#1 1. Create a parent class Animal with a method speak() that prints a generic message.\n",
        "# Create a child class Dog that overrides the speak() method to print \"Bark!\".\n",
        "\n",
        "class Animal:\n",
        "    def speak(self):\n",
        "        print(\"Animal makes his own sound\")\n",
        "\n",
        "class Dog(Animal):\n",
        "    def speak(self):   # overriding\n",
        "        print(\"Bark!\")\n",
        "\n",
        "d = Dog()\n",
        "d.speak()  # Output: Bark!\n"
      ],
      "metadata": {
        "colab": {
          "base_uri": "https://localhost:8080/"
        },
        "id": "yyJSpxZwWG24",
        "outputId": "d93be046-09a2-4969-cb97-62ef4d73d069"
      },
      "execution_count": 32,
      "outputs": [
        {
          "output_type": "stream",
          "name": "stdout",
          "text": [
            "Bark!\n"
          ]
        }
      ]
    },
    {
      "cell_type": "code",
      "source": [
        "class Animal:\n",
        "    def speak(self):\n",
        "        print(\"Animal makes a sound\")\n",
        "\n",
        "class Dog(Animal):\n",
        "    def speak(self):   # overriding\n",
        "        print(\"Bark!\")\n",
        "\n",
        "d = Dog()\n",
        "d.speak()  # Output: Bark!\n"
      ],
      "metadata": {
        "colab": {
          "base_uri": "https://localhost:8080/"
        },
        "id": "tnRIU5B4WLDq",
        "outputId": "a1eee532-00bb-486f-f34c-ed4f2846d5f8"
      },
      "execution_count": 33,
      "outputs": [
        {
          "output_type": "stream",
          "name": "stdout",
          "text": [
            "Bark!\n"
          ]
        }
      ]
    },
    {
      "cell_type": "code",
      "source": [
        "#2  Write a program to create an abstract class Shape with a method area().\n",
        "# Derive classes Circle and Rectangle from it and implement the area() method in both.\n",
        "\n",
        "from abc import ABC ,abstractmethod\n",
        "\n",
        "class Shape(ABC):\n",
        "    @abstractmethod\n",
        "    def area(self):\n",
        "        pass\n",
        "\n",
        "class Circle(Shape):\n",
        "    def __init__ (self , r): self.r = r\n",
        "    def area(self):\n",
        "        return 3.14 * self.r * self.r\n",
        "\n",
        "class Rectangle(Shape):\n",
        "   def __init__(self,l,w): self.l, self.w = l, w\n",
        "   def area(self):\n",
        "      return self.l *self.w\n",
        "\n",
        "\n",
        "print(Circle(5).area())\n",
        "print(Rectangle(4,6) . area())\n"
      ],
      "metadata": {
        "colab": {
          "base_uri": "https://localhost:8080/"
        },
        "id": "ol3nEevrWXV8",
        "outputId": "1c523801-6597-41d0-cb15-77fca31ce384"
      },
      "execution_count": 40,
      "outputs": [
        {
          "output_type": "stream",
          "name": "stdout",
          "text": [
            "78.5\n",
            "24\n"
          ]
        }
      ]
    },
    {
      "cell_type": "code",
      "source": [
        "#3 Implement a multi-level inheritance scenario where a class Vehicle has an attribute type\n",
        "#Derive a class Car and further derive a class ElectricCar that adds a battery attribute.\n",
        "\n",
        "\n",
        "class Vehicle:\n",
        "    def __init__(self, type):\n",
        "        self.type = type\n",
        "\n",
        "class Car(Vehicle):\n",
        "    def __init__(self, type, brand):\n",
        "        super().__init__(type)\n",
        "        self.brand = brand\n",
        "\n",
        "class ElectricCar(Car):\n",
        "    def __init__(self, type, brand, battery):\n",
        "        super().__init__(type, brand)\n",
        "        self.battery = battery\n",
        "\n",
        "\n",
        "ec = ElectricCar(\"Four Wheeler\", \"Tesla\", \"86 kWh\")\n",
        "print(ec.type, ec.brand, ec.battery)"
      ],
      "metadata": {
        "colab": {
          "base_uri": "https://localhost:8080/"
        },
        "id": "XQAHxwhFYJkV",
        "outputId": "825d847b-6e95-4188-fc1b-4308195d1d25"
      },
      "execution_count": 41,
      "outputs": [
        {
          "output_type": "stream",
          "name": "stdout",
          "text": [
            "Four Wheeler Tesla 86 kWh\n"
          ]
        }
      ]
    },
    {
      "cell_type": "code",
      "source": [
        "#4. Demonstrate polymorphism by creating a base class Bird with a method fly().\n",
        "#Create two derived classes Sparrow and Penguin that override the fly() method.\n",
        "\n",
        "class Bird:\n",
        "    def fly(self):\n",
        "        print(\"Birds can fly\")\n",
        "\n",
        "class Sparrow(Bird):\n",
        "    def fly(self):\n",
        "        print(\"Sparrows can fly\")\n",
        "\n",
        "class Penguin(Bird):\n",
        "    def fly(self):\n",
        "        print(\"Penguins cannot fly\")#overrides\n",
        "\n",
        "\n",
        "for b in [Sparrow(), Penguin()]:\n",
        "    b.fly()\n"
      ],
      "metadata": {
        "colab": {
          "base_uri": "https://localhost:8080/"
        },
        "id": "l1iU__DQYZng",
        "outputId": "cc5f39c9-9706-4db5-ed82-53a790d50db3"
      },
      "execution_count": 43,
      "outputs": [
        {
          "output_type": "stream",
          "name": "stdout",
          "text": [
            "Sparrows can fly\n",
            "Penguins cannot fly\n"
          ]
        }
      ]
    },
    {
      "cell_type": "code",
      "source": [
        "#5Write a program to demonstrate encapsulation by creating a class BankAccount with private attributes balance and methods to deposit, withdraw, and check balance.\n",
        "\n",
        "\n",
        "class BankAccount:\n",
        "    def __init__(self, balance=0):\n",
        "        self.__balance = balance\n",
        "\n",
        "    def deposit(self, amount):\n",
        "        self.__balance += amount\n",
        "\n",
        "    def withdraw(self, amount):\n",
        "        if amount <= self.__balance:\n",
        "            self.__balance -= amount\n",
        "        else:\n",
        "            print(\"Insufficient balance\")\n",
        "\n",
        "    def get_balance(self):\n",
        "        return self.__balance\n",
        "\n",
        "\n",
        "acc = BankAccount(100000)\n",
        "acc.deposit(50000)\n",
        "acc.withdraw(3090)\n",
        "print(acc.get_balance())\n"
      ],
      "metadata": {
        "colab": {
          "base_uri": "https://localhost:8080/"
        },
        "id": "Eef2M1PzYy5i",
        "outputId": "a5741a04-baef-4653-af3e-bdf48ad448a4"
      },
      "execution_count": 44,
      "outputs": [
        {
          "output_type": "stream",
          "name": "stdout",
          "text": [
            "146910\n"
          ]
        }
      ]
    },
    {
      "cell_type": "code",
      "source": [
        "#6 Demonstrate runtime polymorphism using a method play() in a base class Instrument. Derive classes Guitar and Piano that implement their own version of play().\n",
        "\n",
        "\n",
        "class Instrument:\n",
        "  def play(self):\n",
        "     print(\"Instrument is playing\")\n",
        "\n",
        "class Guitar(Instrument):\n",
        "  def play(self):\n",
        "    print(\"Guitar is playing\")\n",
        "\n",
        "class Piano(Instrument):\n",
        "  def play(self):\n",
        "     print(\"Piano is playing\")\n",
        "\n",
        "for i in [Instrument(), Guitar(), Piano()]:\n",
        "    i.play()"
      ],
      "metadata": {
        "colab": {
          "base_uri": "https://localhost:8080/"
        },
        "id": "VRefzUpuZNrR",
        "outputId": "3c244382-34c2-4068-e2e1-3f41b04c2bde"
      },
      "execution_count": 51,
      "outputs": [
        {
          "output_type": "stream",
          "name": "stdout",
          "text": [
            "Instrument is playing\n",
            "Guitar is playing\n",
            "Piano is playing\n"
          ]
        }
      ]
    },
    {
      "cell_type": "code",
      "source": [
        "#7 Create a class MathOperations with a class method add_numbers() to add two numbers and a static method subtract_numbers() to subtract two numbers.\n",
        "\n",
        "class MathOperations:\n",
        "    @classmethod\n",
        "    def add_numbers(cls, a, b):\n",
        "        return a + b\n",
        "\n",
        "    @staticmethod\n",
        "    def subtract_numbers(a, b):\n",
        "        return a - b\n",
        "\n",
        "print(MathOperations.add_numbers(9, 5))\n",
        "print(MathOperations.subtract_numbers(3, 7))"
      ],
      "metadata": {
        "colab": {
          "base_uri": "https://localhost:8080/"
        },
        "id": "HnUj83ecZl6B",
        "outputId": "0825ed37-ebd3-4411-bb98-fe7901e40dbe"
      },
      "execution_count": 52,
      "outputs": [
        {
          "output_type": "stream",
          "name": "stdout",
          "text": [
            "14\n",
            "-4\n"
          ]
        }
      ]
    },
    {
      "cell_type": "code",
      "source": [
        "#8 . Implement a class Person with a class method to count the total number of persons create\n",
        "\n",
        "class Person:\n",
        "    count = 0\n",
        "\n",
        "    def __init__(self, name):\n",
        "      self.name= name\n",
        "      Person.count += 1\n",
        "\n",
        "    @classmethod\n",
        "    def total_persons(cls):\n",
        "        return cls.count\n",
        "\n",
        "p1 = Person(\"shaina\")\n",
        "p2 = Person(\"sultan\")\n",
        "print(Person.total_persons())"
      ],
      "metadata": {
        "colab": {
          "base_uri": "https://localhost:8080/"
        },
        "id": "WyAu_Hx3a4jG",
        "outputId": "04a72e96-1307-4e02-c55d-99c821fd14e2"
      },
      "execution_count": 58,
      "outputs": [
        {
          "output_type": "stream",
          "name": "stdout",
          "text": [
            "2\n"
          ]
        }
      ]
    },
    {
      "cell_type": "code",
      "source": [
        "#9. Write a class Fraction with attributes numerator and denominator. Override the str method to display the fraction as \"numerator/denominator\".\n",
        "\n",
        "class Fraction:\n",
        "    def __init__(self, numerator, denominator):\n",
        "        self.numerator = numerator\n",
        "        self.denominator = denominator\n",
        "\n",
        "    def __str__(self):\n",
        "        return f\"{self.numerator}/{self.denominator}\"\n",
        "\n",
        "f = Fraction(4,8)\n",
        "print(f)"
      ],
      "metadata": {
        "colab": {
          "base_uri": "https://localhost:8080/"
        },
        "id": "UmikXnxpbMAj",
        "outputId": "87642747-e39d-4c50-8886-65e743626f79"
      },
      "execution_count": 60,
      "outputs": [
        {
          "output_type": "stream",
          "name": "stdout",
          "text": [
            "4/8\n"
          ]
        }
      ]
    },
    {
      "cell_type": "code",
      "source": [
        "#10. Demonstrate operator overloading by creating a class Vector and overriding the add method to add two vectors.\n",
        "\n",
        "class Vector:\n",
        "    def __init__(self, x, y):\n",
        "        self.x = x\n",
        "        self.y = y\n",
        "\n",
        "    def __add__(self, other):\n",
        "        return Vector(self.x + other.x, self.y + other.y)\n",
        "\n",
        "    def __str__(self):\n",
        "        return f\"({self.x}, {self.y})\"\n",
        "\n",
        "v1 = Vector(1, 2)\n",
        "v2 = Vector(3, 4)\n",
        "v3 = v1 + v2\n",
        "print(v3)"
      ],
      "metadata": {
        "colab": {
          "base_uri": "https://localhost:8080/"
        },
        "id": "JBX-n4kJcH2D",
        "outputId": "aa46f589-3ebe-41c5-8207-7e6b182a8e5d"
      },
      "execution_count": 61,
      "outputs": [
        {
          "output_type": "stream",
          "name": "stdout",
          "text": [
            "(4, 6)\n"
          ]
        }
      ]
    },
    {
      "cell_type": "code",
      "source": [
        "#11. Create a class Person with attributes name and age. Add a method greet() that prints \"Hello, my name is {name} and I am {age} years old.\"\n",
        "\n",
        "\n",
        "class Person:\n",
        "  def __init__(self, name, age):\n",
        "    self.name = name\n",
        "    self.age = age\n",
        "\n",
        "  def greet(self):\n",
        "    print(f\"Hello, my name is {self.name} and I am {self.age} years old.\")\n",
        "\n",
        "p = Person(\"Shaina\", 25)\n",
        "p.greet()"
      ],
      "metadata": {
        "colab": {
          "base_uri": "https://localhost:8080/"
        },
        "id": "jewbaMvZcWAh",
        "outputId": "e5a90b5a-4618-4d6f-8b6a-43a8f73e3669"
      },
      "execution_count": 62,
      "outputs": [
        {
          "output_type": "stream",
          "name": "stdout",
          "text": [
            "Hello, my name is Shaina and I am 25 years old.\n"
          ]
        }
      ]
    },
    {
      "cell_type": "code",
      "source": [
        "#12 12. Implement a class Student with attributes name and grades. Create a method average_grade() to compute the average of the grades.\n",
        "\n",
        "class Student:\n",
        "    def __init__(self, name, grades):\n",
        "        self.name = name\n",
        "        self.grades = grades\n",
        "\n",
        "    def average_grade(self):\n",
        "        return sum(self.grades) / len(self.grades)\n",
        "\n",
        "\n",
        "s = Student(\" SHAINA\", [98.89,97])\n",
        "print(s.average_grade())"
      ],
      "metadata": {
        "colab": {
          "base_uri": "https://localhost:8080/"
        },
        "id": "-PvBWbh4cjI-",
        "outputId": "01cc0428-db77-4993-a4bc-1ed0faccf70a"
      },
      "execution_count": 77,
      "outputs": [
        {
          "output_type": "stream",
          "name": "stdout",
          "text": [
            "97.945\n"
          ]
        }
      ]
    },
    {
      "cell_type": "code",
      "source": [
        "#13. Create a class Rectangle with methods set_dimensions() to set the dimensions and area() to calculate the area.\n",
        "\n",
        "class Rectangle:\n",
        "    def set_dimensions(self, length, width):\n",
        "        self.length = length\n",
        "        self.width = width\n",
        "\n",
        "    def area(self):\n",
        "        return self.length * self.width\n",
        "\n",
        "r = Rectangle()\n",
        "r.set_dimensions(4, 5)\n",
        "print(r.area())"
      ],
      "metadata": {
        "colab": {
          "base_uri": "https://localhost:8080/"
        },
        "id": "vTEZsL0Bc1dc",
        "outputId": "ef7aaef9-6c71-4d62-923f-9ffd0758952f"
      },
      "execution_count": 82,
      "outputs": [
        {
          "output_type": "stream",
          "name": "stdout",
          "text": [
            "20\n"
          ]
        }
      ]
    },
    {
      "cell_type": "code",
      "source": [
        "#14. Create a class Employee with a method calculate_salary() that computes the salary based on hours worked and hourly rate. Create a derived class Manager that adds a bonus to the salary.\n",
        "\n",
        "class Employee:\n",
        "    def __init__(self, name, hours_worked, hourly_rate):\n",
        "        self.name = name\n",
        "        self.hours_worked = hours_worked\n",
        "        self.hourly_rate = hourly_rate\n",
        "\n",
        "    def calculate_salary(self):\n",
        "        return self.hours_worked * self.hourly_rate\n",
        "\n",
        "class Manager(Employee):\n",
        "    def __init__(self, name, hours_worked, hourly_rate, bonus):\n",
        "        super().__init__(name, hours_worked, hourly_rate)\n",
        "        self.bonus = bonus\n",
        "\n",
        "    def calculate_salary(self):\n",
        "      return super().calculate_salary() + self.bonus\n",
        "\n",
        "m = Manager(\"Shaina\", 40, 50, 10000)\n",
        "print(m.calculate_salary())\n",
        ""
      ],
      "metadata": {
        "colab": {
          "base_uri": "https://localhost:8080/"
        },
        "id": "uNjRcc3xdvT7",
        "outputId": "94c1dc77-98e6-4298-faef-7774e558c794"
      },
      "execution_count": 101,
      "outputs": [
        {
          "output_type": "stream",
          "name": "stdout",
          "text": [
            "12000\n"
          ]
        }
      ]
    },
    {
      "cell_type": "code",
      "source": [
        "#15. Create a class Product with attributes name, price, and quantity. Implement a method total_price() that calculates the total price of the product.\n",
        "\n",
        "\n",
        "class Product:\n",
        "    def __init__(self, name, price, quantity):\n",
        "        self.name = name\n",
        "        self.price = price\n",
        "        self.quantity = quantity\n",
        "\n",
        "    def total_price(self):\n",
        "        return self.price * self.quantity\n",
        "\n",
        "  #example usage\n",
        "\n",
        "p1 = Product(\"Shirt\", 20, 5)\n",
        "print(\"Product is \", p1.name)\n",
        "print(\"Total price is \" ,p1.total_price())"
      ],
      "metadata": {
        "colab": {
          "base_uri": "https://localhost:8080/"
        },
        "id": "jI0CP34pejTC",
        "outputId": "92dbf170-3cee-40d3-f4c3-ca466a60ce46"
      },
      "execution_count": 107,
      "outputs": [
        {
          "output_type": "stream",
          "name": "stdout",
          "text": [
            "Product is  Shirt\n",
            "Total price is  100\n"
          ]
        }
      ]
    },
    {
      "cell_type": "code",
      "source": [
        "#16. Create a class Animal with an abstract method sound(). Create two derived classes Cow and Sheep that implement the sound() method.\n",
        "\n",
        "from abc import ABC, abstractmethod\n",
        "\n",
        "class Animal(ABC):\n",
        "    @abstractmethod\n",
        "    def sound(self):\n",
        "        pass\n",
        "\n",
        "class Cow(Animal):\n",
        "    def sound(self):\n",
        "        print(\"Moo!\")\n",
        "\n",
        "class Sheep(Animal):\n",
        "    def sound(self):\n",
        "        print(\"Baa!\")\n",
        "\n",
        "#example\n",
        "cow = Cow()\n",
        "cow.sound()\n",
        "\n",
        "sheep = Sheep()\n",
        "sheep.sound()\n",
        "\n"
      ],
      "metadata": {
        "colab": {
          "base_uri": "https://localhost:8080/"
        },
        "id": "HwmHzSpWfoqR",
        "outputId": "d4ecc2d1-598b-4057-b4ee-9b793e48a7cf"
      },
      "execution_count": 108,
      "outputs": [
        {
          "output_type": "stream",
          "name": "stdout",
          "text": [
            "Moo!\n",
            "Baa!\n"
          ]
        }
      ]
    },
    {
      "cell_type": "code",
      "source": [
        "#17. Create a class Book with attributes title, author, and year_published. Add a method get_book_info() that returns a formatted string with the book's details.\n",
        "\n",
        "\n",
        "\n",
        "class Book:\n",
        "    def __init__(self, title, author, year_published):\n",
        "        self.title = title\n",
        "        self.author = author\n",
        "        self.year_published = year_published\n",
        "\n",
        "    def get_book_info(self):\n",
        "        return f\"Title: {self.title}\\nAuthor: {self.author}\\nYear Published: {self.year_published}\"\n",
        "\n",
        "#example\n",
        "\n",
        "b1= Book(\"The Alchemist\", \"Paulo Coelho\", 1988)\n",
        "print(b1.get_book_info())\n"
      ],
      "metadata": {
        "colab": {
          "base_uri": "https://localhost:8080/"
        },
        "id": "RU2kCJOPguPX",
        "outputId": "42b61e1b-0519-4f95-ba19-7c3eca92ab9d"
      },
      "execution_count": 109,
      "outputs": [
        {
          "output_type": "stream",
          "name": "stdout",
          "text": [
            "Title: The Alchemist\n",
            "Author: Paulo Coelho\n",
            "Year Published: 1988\n"
          ]
        }
      ]
    },
    {
      "cell_type": "code",
      "source": [
        "#18. Create a class House with attributes address and price. Create a derived class Mansion that adds an attribute number_of_rooms.\n",
        "\n",
        "\n",
        "class House:\n",
        "   def __init__(self, address, price):\n",
        "    self.address = address\n",
        "    self.price = price\n",
        "\n",
        "class Mansion(House):\n",
        "  def __init__(self, address, price, number_of_rooms):\n",
        "    super().__init__(address, price)\n",
        "    self.number_of_rooms = number_of_rooms\n",
        "\n",
        "\n",
        "#eg\n",
        "\n",
        "m = Mansion(\"345 haji colony \", 4999990 , 15)\n",
        "print(\"MANSION ADDRESS:\" , m.address)\n",
        "print(\"PRICE\" , m.price)\n",
        "print(\"ROOMS:\", m.number_of_rooms)"
      ],
      "metadata": {
        "colab": {
          "base_uri": "https://localhost:8080/"
        },
        "id": "VH5vhix-hEwK",
        "outputId": "0c92c287-4113-4b21-b60d-91ff11cd0c07"
      },
      "execution_count": 111,
      "outputs": [
        {
          "output_type": "stream",
          "name": "stdout",
          "text": [
            "MANSION ADDRESS: 345 haji colony \n",
            "PRICE 4999990\n",
            "ROOMS: 15\n"
          ]
        }
      ]
    },
    {
      "cell_type": "code",
      "source": [],
      "metadata": {
        "id": "t-wedQ-chogx"
      },
      "execution_count": null,
      "outputs": []
    }
  ]
}